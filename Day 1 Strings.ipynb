{
 "cells": [
  {
   "cell_type": "code",
   "execution_count": 1,
   "id": "9ebe6f72-260f-4bb4-9cf7-57871012a756",
   "metadata": {},
   "outputs": [
    {
     "name": "stdout",
     "output_type": "stream",
     "text": [
      "hello\n"
     ]
    }
   ],
   "source": [
    "print(\"hello\")\n"
   ]
  },
  {
   "cell_type": "code",
   "execution_count": null,
   "id": "f889d1bf-2d9a-4ac8-9833-e4e9897ea32a",
   "metadata": {},
   "outputs": [],
   "source": [
    "name = \"Mahesh\"\n",
    "print(name[0])"
   ]
  },
  {
   "cell_type": "code",
   "execution_count": 3,
   "id": "77c2df29-c6e9-4a15-8991-1d234740de79",
   "metadata": {},
   "outputs": [
    {
     "name": "stdout",
     "output_type": "stream",
     "text": [
      "h\n"
     ]
    }
   ],
   "source": [
    "print(name[2])\n"
   ]
  },
  {
   "cell_type": "code",
   "execution_count": 4,
   "id": "07f1129c-a4ef-4ae5-8e0e-cd2063eae42c",
   "metadata": {},
   "outputs": [
    {
     "name": "stdout",
     "output_type": "stream",
     "text": [
      "Mahe\n"
     ]
    }
   ],
   "source": [
    "#for slicing\n",
    "print(name[0:4])"
   ]
  },
  {
   "cell_type": "code",
   "execution_count": 5,
   "id": "1a7212ae-186e-4f50-83ab-56976e5273c5",
   "metadata": {},
   "outputs": [
    {
     "name": "stdout",
     "output_type": "stream",
     "text": [
      "Mah\n"
     ]
    }
   ],
   "source": [
    "print(name[0:3])"
   ]
  },
  {
   "cell_type": "code",
   "execution_count": 6,
   "id": "d5ef2144-4ee2-4a7c-927c-397cc155f525",
   "metadata": {},
   "outputs": [
    {
     "data": {
      "text/plain": [
       "'Mhs'"
      ]
     },
     "execution_count": 6,
     "metadata": {},
     "output_type": "execute_result"
    }
   ],
   "source": [
    "#Stride\n",
    "#We can also input a stride value as follows, with the '2' indicating that we are selecting every second variable\n",
    "name[::2]"
   ]
  },
  {
   "cell_type": "code",
   "execution_count": 7,
   "id": "1a57326e-cf2c-4331-ace1-4568eb115de0",
   "metadata": {},
   "outputs": [
    {
     "data": {
      "text/plain": [
       "'M'"
      ]
     },
     "execution_count": 7,
     "metadata": {},
     "output_type": "execute_result"
    }
   ],
   "source": [
    "name[0:2:4]"
   ]
  },
  {
   "cell_type": "code",
   "execution_count": 8,
   "id": "a2b8e055-8ee5-467b-be05-60e5cf17b099",
   "metadata": {},
   "outputs": [],
   "source": [
    "#concatenate the string means we can join the different strings together to form a single string\n",
    "statement = name + \"studies in college greater noida\""
   ]
  },
  {
   "cell_type": "code",
   "execution_count": 11,
   "id": "76f2f4a3-4ac0-4706-a830-25d7d4050431",
   "metadata": {},
   "outputs": [
    {
     "name": "stdout",
     "output_type": "stream",
     "text": [
      "Maheshstudies in college greater noida\n"
     ]
    }
   ],
   "source": [
    "print(statement)\n"
   ]
  },
  {
   "cell_type": "code",
   "execution_count": null,
   "id": "55773241-c797-4100-ac58-ca622c34fe13",
   "metadata": {},
   "outputs": [],
   "source": [
    "#string manipulation\n"
   ]
  },
  {
   "cell_type": "code",
   "execution_count": 1,
   "id": "dfb26159-6786-4eb1-b3a7-fffef32c5154",
   "metadata": {},
   "outputs": [
    {
     "name": "stdout",
     "output_type": "stream",
     "text": [
      "THE GREAT RULER\n"
     ]
    }
   ],
   "source": [
    "a =\"the great ruler\"\n",
    "b = a.upper()\n",
    "print(b)"
   ]
  },
  {
   "cell_type": "code",
   "execution_count": 2,
   "id": "16041c13-cacd-40f1-8597-19824fb2cb10",
   "metadata": {},
   "outputs": [
    {
     "data": {
      "text/plain": [
       "0"
      ]
     },
     "execution_count": 2,
     "metadata": {},
     "output_type": "execute_result"
    }
   ],
   "source": [
    "name = \"bodyguard\"\n",
    "name.find(\"bo\")"
   ]
  },
  {
   "cell_type": "code",
   "execution_count": 3,
   "id": "ef435b91-0020-4ae2-8af7-00efdd9342f5",
   "metadata": {},
   "outputs": [
    {
     "data": {
      "text/plain": [
       "2"
      ]
     },
     "execution_count": 3,
     "metadata": {},
     "output_type": "execute_result"
    }
   ],
   "source": [
    "name.find(\"dy\")"
   ]
  },
  {
   "cell_type": "code",
   "execution_count": 4,
   "id": "ab2fb2a6-62d4-4c89-a05f-2725aac3c0e2",
   "metadata": {},
   "outputs": [
    {
     "name": "stdout",
     "output_type": "stream",
     "text": [
      "manu is not good at all\n"
     ]
    }
   ],
   "source": [
    "a = \"mahesh is not good at all\"\n",
    "b = a.replace(\"mahesh\",\"manu\")\n",
    "print(b)"
   ]
  },
  {
   "cell_type": "code",
   "execution_count": 6,
   "id": "cad17401-de1e-4c1b-b81b-e928e49aacc7",
   "metadata": {},
   "outputs": [
    {
     "data": {
      "text/plain": [
       "'correct'"
      ]
     },
     "execution_count": 6,
     "metadata": {},
     "output_type": "execute_result"
    }
   ],
   "source": [
    "e = 'clocrkr1e1c1t'\n",
    "e[::2]\n"
   ]
  },
  {
   "cell_type": "code",
   "execution_count": null,
   "id": "b67ce69e-d18b-4f70-aa8b-954c22703d0e",
   "metadata": {},
   "outputs": [],
   "source": []
  }
 ],
 "metadata": {
  "kernelspec": {
   "display_name": "Python 3 (ipykernel)",
   "language": "python",
   "name": "python3"
  },
  "language_info": {
   "codemirror_mode": {
    "name": "ipython",
    "version": 3
   },
   "file_extension": ".py",
   "mimetype": "text/x-python",
   "name": "python",
   "nbconvert_exporter": "python",
   "pygments_lexer": "ipython3",
   "version": "3.13.5"
  }
 },
 "nbformat": 4,
 "nbformat_minor": 5
}
