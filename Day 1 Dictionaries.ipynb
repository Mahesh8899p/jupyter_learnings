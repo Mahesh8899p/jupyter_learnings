{
 "cells": [
  {
   "cell_type": "code",
   "execution_count": null,
   "id": "4e2e17ba-b651-4072-841f-282f15a7a257",
   "metadata": {},
   "outputs": [],
   "source": [
    "#dictionaries have key value sequence where key refers to the index and value is the actual value"
   ]
  },
  {
   "cell_type": "code",
   "execution_count": null,
   "id": "f9fb3a0c-fc3f-45e8-9bca-1e85e666ce80",
   "metadata": {},
   "outputs": [],
   "source": [
    "#create a dictionary "
   ]
  },
  {
   "cell_type": "code",
   "execution_count": 1,
   "id": "8a7323c9-fa3f-44e6-924d-34a7dfb017ff",
   "metadata": {},
   "outputs": [],
   "source": [
    "dict = {\"key1\":1,\"key2\":\"Mohit\",\"key3\":[1,1.4,\"rahul\"],(\"key\"):4,\"topic\":(\"m\",2,4.1)}"
   ]
  },
  {
   "cell_type": "code",
   "execution_count": null,
   "id": "ff3e0ed3-92ed-4731-b6be-401d24f8b785",
   "metadata": {},
   "outputs": [],
   "source": [
    "#access to any value by its key which it is linked from "
   ]
  },
  {
   "cell_type": "code",
   "execution_count": 2,
   "id": "929af181-ad36-4371-a157-668946860964",
   "metadata": {},
   "outputs": [
    {
     "data": {
      "text/plain": [
       "1"
      ]
     },
     "execution_count": 2,
     "metadata": {},
     "output_type": "execute_result"
    }
   ],
   "source": [
    "dict[\"key1\"]"
   ]
  },
  {
   "cell_type": "code",
   "execution_count": null,
   "id": "3afae1b8-9e05-4647-88ee-9b5f577f890f",
   "metadata": {},
   "outputs": [],
   "source": [
    "#get values by the keys"
   ]
  },
  {
   "cell_type": "code",
   "execution_count": 3,
   "id": "7b4cecb5-fbce-47ca-8508-9e2575961b74",
   "metadata": {},
   "outputs": [
    {
     "data": {
      "text/plain": [
       "[1, 1.4, 'rahul']"
      ]
     },
     "execution_count": 3,
     "metadata": {},
     "output_type": "execute_result"
    }
   ],
   "source": [
    "dict[\"key3\"]"
   ]
  },
  {
   "cell_type": "code",
   "execution_count": null,
   "id": "9d10f310-7f62-45fa-a427-39202afa3251",
   "metadata": {},
   "outputs": [],
   "source": [
    "#for getting all the keys in the dictionary"
   ]
  },
  {
   "cell_type": "code",
   "execution_count": 4,
   "id": "638ccdca-e983-4028-808f-09035c8cb63c",
   "metadata": {},
   "outputs": [
    {
     "data": {
      "text/plain": [
       "dict_keys(['key1', 'key2', 'key3', 'key', 'topic'])"
      ]
     },
     "execution_count": 4,
     "metadata": {},
     "output_type": "execute_result"
    }
   ],
   "source": [
    "dict.keys() "
   ]
  },
  {
   "cell_type": "code",
   "execution_count": null,
   "id": "cef41877-6bef-4a33-9770-5fbd4e97e33c",
   "metadata": {},
   "outputs": [],
   "source": [
    "#for getting all the values in the dictionary"
   ]
  },
  {
   "cell_type": "code",
   "execution_count": 5,
   "id": "b4dfd866-d96b-4b70-897d-c1a90b9c35f9",
   "metadata": {},
   "outputs": [
    {
     "data": {
      "text/plain": [
       "dict_values([1, 'Mohit', [1, 1.4, 'rahul'], 4, ('m', 2, 4.1)])"
      ]
     },
     "execution_count": 5,
     "metadata": {},
     "output_type": "execute_result"
    }
   ],
   "source": [
    "dict.values()"
   ]
  },
  {
   "cell_type": "code",
   "execution_count": null,
   "id": "4189363e-a608-472a-8369-26f84f766044",
   "metadata": {},
   "outputs": [],
   "source": [
    "#append the value in the dictionary"
   ]
  },
  {
   "cell_type": "code",
   "execution_count": 6,
   "id": "bd1000bf-ab6a-4f73-8fb7-13863b740aec",
   "metadata": {},
   "outputs": [],
   "source": [
    "dict[\"name\"] = \"manu\""
   ]
  },
  {
   "cell_type": "code",
   "execution_count": 7,
   "id": "507d74d1-743d-41f3-93d7-8fc9795db229",
   "metadata": {},
   "outputs": [
    {
     "name": "stdout",
     "output_type": "stream",
     "text": [
      "{'key1': 1, 'key2': 'Mohit', 'key3': [1, 1.4, 'rahul'], 'key': 4, 'topic': ('m', 2, 4.1), 'name': 'manu'}\n"
     ]
    }
   ],
   "source": [
    "print(dict)"
   ]
  },
  {
   "cell_type": "code",
   "execution_count": 8,
   "id": "82c49e80-9155-4f9a-a369-2106c00ec100",
   "metadata": {},
   "outputs": [],
   "source": [
    "dict[(1,\"mohit\")] = (2.4,\"tgu\")"
   ]
  },
  {
   "cell_type": "code",
   "execution_count": 9,
   "id": "f748d39f-921a-4d5c-95c9-6ffdcc218b3b",
   "metadata": {},
   "outputs": [
    {
     "name": "stdout",
     "output_type": "stream",
     "text": [
      "{'key1': 1, 'key2': 'Mohit', 'key3': [1, 1.4, 'rahul'], 'key': 4, 'topic': ('m', 2, 4.1), 'name': 'manu', (1, 'mohit'): (2.4, 'tgu')}\n"
     ]
    }
   ],
   "source": [
    "print(dict)"
   ]
  },
  {
   "cell_type": "code",
   "execution_count": null,
   "id": "e374aea7-dadf-48ed-ac5a-d8b0a603199c",
   "metadata": {},
   "outputs": [],
   "source": [
    "#for deleting the entries by the key using del()"
   ]
  },
  {
   "cell_type": "code",
   "execution_count": 10,
   "id": "0725b43f-1788-4d29-8818-bfe2b8d29c1c",
   "metadata": {},
   "outputs": [],
   "source": [
    "del(dict[\"key1\"])"
   ]
  },
  {
   "cell_type": "code",
   "execution_count": 11,
   "id": "484ad498-c5f3-4cdf-bec2-103fdb2a59d3",
   "metadata": {},
   "outputs": [
    {
     "name": "stdout",
     "output_type": "stream",
     "text": [
      "{'key2': 'Mohit', 'key3': [1, 1.4, 'rahul'], 'key': 4, 'topic': ('m', 2, 4.1), 'name': 'manu', (1, 'mohit'): (2.4, 'tgu')}\n"
     ]
    }
   ],
   "source": [
    "print(dict)"
   ]
  },
  {
   "cell_type": "code",
   "execution_count": null,
   "id": "9131f924-ddf3-4521-a626-17555da02e23",
   "metadata": {},
   "outputs": [],
   "source": []
  }
 ],
 "metadata": {
  "kernelspec": {
   "display_name": "Python 3 (ipykernel)",
   "language": "python",
   "name": "python3"
  },
  "language_info": {
   "codemirror_mode": {
    "name": "ipython",
    "version": 3
   },
   "file_extension": ".py",
   "mimetype": "text/x-python",
   "name": "python",
   "nbconvert_exporter": "python",
   "pygments_lexer": "ipython3",
   "version": "3.13.5"
  }
 },
 "nbformat": 4,
 "nbformat_minor": 5
}
