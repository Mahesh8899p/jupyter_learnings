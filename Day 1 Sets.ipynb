{
 "cells": [
  {
   "cell_type": "code",
   "execution_count": null,
   "id": "7ea115a3-06ab-4a48-96de-ed5ff224906c",
   "metadata": {},
   "outputs": [],
   "source": [
    "#sets are the type of collection like lists and tuples where we could input different python types , unlike the lists and tuples they are unordered\n",
    "#Hence sets wont record the element position\n",
    "#sets only have unique elements"
   ]
  },
  {
   "cell_type": "code",
   "execution_count": null,
   "id": "b9ffbfd4-89a1-4ee3-b841-a308473b9274",
   "metadata": {},
   "outputs": [],
   "source": [
    "# set() can be used to convert the list into the set \n",
    "# here the list will be input to the set"
   ]
  },
  {
   "cell_type": "code",
   "execution_count": 1,
   "id": "e1a2eb06-bf57-4ed8-bb91-092e912a25e5",
   "metadata": {},
   "outputs": [
    {
     "data": {
      "text/plain": [
       "{876, 'micheal Jackson', 'thriller'}"
      ]
     },
     "execution_count": 1,
     "metadata": {},
     "output_type": "execute_result"
    }
   ],
   "source": [
    "album_list = [\"micheal Jackson\",\"thriller\",\"thriller\",876]\n",
    "set(album_list)"
   ]
  },
  {
   "cell_type": "code",
   "execution_count": null,
   "id": "2067ccf9-7f96-470e-84e5-142c88ad81c4",
   "metadata": {},
   "outputs": [],
   "source": [
    "# .add() method for adding the values in the set"
   ]
  },
  {
   "cell_type": "code",
   "execution_count": 2,
   "id": "583c20df-6595-41c6-ba65-0df34968d820",
   "metadata": {},
   "outputs": [
    {
     "name": "stdout",
     "output_type": "stream",
     "text": [
      "{'mhj', 345, 'uth', 8}\n"
     ]
    }
   ],
   "source": [
    "r = {345,\"mhj\",\"uth\"}\n",
    "r.add(8)\n",
    "print(r)"
   ]
  },
  {
   "cell_type": "code",
   "execution_count": null,
   "id": "a0c240fa-aace-4fea-b1af-48e602cc5b6e",
   "metadata": {},
   "outputs": [],
   "source": [
    "# .remove method for removing the different values in the set"
   ]
  },
  {
   "cell_type": "code",
   "execution_count": 3,
   "id": "30a5c8d8-6631-4653-87cd-03a5025f9708",
   "metadata": {},
   "outputs": [
    {
     "name": "stdout",
     "output_type": "stream",
     "text": [
      "{'poiutn', 'tyuhj'}\n"
     ]
    }
   ],
   "source": [
    "r = {567, \"tyuhj\",\"poiutn\"}\n",
    "r.remove(567)\n",
    "print(r)"
   ]
  },
  {
   "cell_type": "code",
   "execution_count": null,
   "id": "443dbafc-1db3-498e-8f22-5d121e4394d8",
   "metadata": {},
   "outputs": [],
   "source": [
    "# & will find the common between the set"
   ]
  },
  {
   "cell_type": "code",
   "execution_count": 7,
   "id": "5deb4778-8c0f-469a-abf8-1e7502012ad9",
   "metadata": {},
   "outputs": [
    {
     "name": "stdout",
     "output_type": "stream",
     "text": [
      "{'man', 'mahe'}\n"
     ]
    }
   ],
   "source": [
    "y = {\"mahe\",\"man\",\"pout\",\"iotpot\"}\n",
    "u = {\"mahe\",\"man\",\"yut\", \"rtyue\"}\n",
    "r = y & u\n",
    "print(r)"
   ]
  },
  {
   "cell_type": "code",
   "execution_count": null,
   "id": "b5c90227-2ad2-4482-9839-c1dd6814e2e4",
   "metadata": {},
   "outputs": [],
   "source": [
    "# .union "
   ]
  },
  {
   "cell_type": "code",
   "execution_count": 8,
   "id": "a9351897-ad0c-4deb-bd78-5af94d283851",
   "metadata": {},
   "outputs": [
    {
     "data": {
      "text/plain": [
       "{1, 2, 3, 4, 5, 6, 'jyuh', 'mahe', 'manu', 'yut'}"
      ]
     },
     "execution_count": 8,
     "metadata": {},
     "output_type": "execute_result"
    }
   ],
   "source": [
    "y = {\"mahe\",\"manu\",1,2,3}\n",
    "z = {\"yut\",\"jyuh\",4,5,6}\n",
    "y.union(z)"
   ]
  },
  {
   "cell_type": "code",
   "execution_count": 10,
   "id": "979b3218-7269-44fc-a670-44bbb5826d3b",
   "metadata": {},
   "outputs": [
    {
     "name": "stdout",
     "output_type": "stream",
     "text": [
      "{'NYSYNC', 'BacktoBack', 'Thriller', 'ac/dc'}\n"
     ]
    }
   ],
   "source": [
    "y = set([\"Thriller\",\"BacktoBack\",\"ac/dc\"])\n",
    "y.add(\"NYSYNC\")\n",
    "print(y)"
   ]
  },
  {
   "cell_type": "code",
   "execution_count": null,
   "id": "448e4bbf-4acb-46a5-947b-02bb6b6c3f47",
   "metadata": {},
   "outputs": [],
   "source": []
  }
 ],
 "metadata": {
  "kernelspec": {
   "display_name": "Python 3 (ipykernel)",
   "language": "python",
   "name": "python3"
  },
  "language_info": {
   "codemirror_mode": {
    "name": "ipython",
    "version": 3
   },
   "file_extension": ".py",
   "mimetype": "text/x-python",
   "name": "python",
   "nbconvert_exporter": "python",
   "pygments_lexer": "ipython3",
   "version": "3.13.5"
  }
 },
 "nbformat": 4,
 "nbformat_minor": 5
}
