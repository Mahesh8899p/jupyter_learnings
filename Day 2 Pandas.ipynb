{
 "cells": [
  {
   "cell_type": "code",
   "execution_count": 4,
   "id": "16cf849d-3c9d-4cbb-a582-62235079eb88",
   "metadata": {},
   "outputs": [],
   "source": [
    "import pandas as pd\n",
    "#for importing the library pandas\n",
    "# as pd means we dont have to type pandas again and again we cna use keyword pd for it"
   ]
  },
  {
   "cell_type": "code",
   "execution_count": null,
   "id": "d4c550be-5cf0-49d9-9663-178d369c46c9",
   "metadata": {},
   "outputs": [],
   "source": [
    "#importing data using the csv file\n",
    "csv_path = \"file.csv\" #variable for storing the path of our csv file"
   ]
  },
  {
   "cell_type": "code",
   "execution_count": null,
   "id": "15e21e54-32fe-4ca3-90e9-689d337d6c09",
   "metadata": {},
   "outputs": [],
   "source": [
    "#.read_csv(path of the csv file) to read the file csv file in python pandas\n",
    "#first make a dataframe using df\n",
    "df = pd.read_csv(csv_path)\n",
    "df.head() #for examining the first five rows of the data frame"
   ]
  },
  {
   "cell_type": "code",
   "execution_count": null,
   "id": "e08c4f3f-0a88-44fc-92c5-a9c6e29705f3",
   "metadata": {},
   "outputs": [],
   "source": [
    "#.read_excel(path of the excel file) to read the excel file in the python pandas\n",
    "df = pd.read_excel(csv_path)"
   ]
  },
  {
   "cell_type": "code",
   "execution_count": null,
   "id": "ff2fac62-f74d-47f5-b67a-d1ee59916261",
   "metadata": {},
   "outputs": [],
   "source": [
    "#creating new data frame using the column names \n",
    "#suppose we have a column name which we only want to have so we can put it inside the df[column name] to create a new dataframe\n",
    "df[['Length']]\n",
    "#this will give us the length column made a dataframe \n",
    "df[['artist','genre','name']]\n",
    "#can be done via multiple columns to creat multiple dataframes"
   ]
  },
  {
   "cell_type": "code",
   "execution_count": null,
   "id": "d68bba28-58aa-442f-ad71-bd476fa650d1",
   "metadata": {},
   "outputs": [],
   "source": [
    "#accessing the individual elements in a table using the .loc command\n",
    "#df.loc[row index name,column index name]\n",
    "df.loc[0,'Artist']"
   ]
  },
  {
   "cell_type": "code",
   "execution_count": null,
   "id": "2f6888c8-fd3e-4bb4-941f-012654b92237",
   "metadata": {},
   "outputs": [],
   "source": [
    "#accessing the individual elements in table using the index value(0,1,2) using the .iloc command\n",
    "df.iloc[0,0] #0th row and 0th column element will be provided\n",
    "df.iloc[0,1] #0th row and 1th column element will be provided"
   ]
  },
  {
   "cell_type": "code",
   "execution_count": null,
   "id": "e07ee2c9-0282-4cad-be50-a19e921aaf9f",
   "metadata": {},
   "outputs": [],
   "source": [
    "#creating a new dataframe and changing its index using the .index command\n",
    "df_new = df\n",
    "df_new.index = ['a','b','c','d','e','f']"
   ]
  },
  {
   "cell_type": "code",
   "execution_count": null,
   "id": "e6e7c0d8-b998-4607-a2a3-7e5b745561a6",
   "metadata": {},
   "outputs": [],
   "source": []
  },
  {
   "cell_type": "code",
   "execution_count": null,
   "id": "4195eb45-f934-471c-ad53-0a264a9c7e34",
   "metadata": {},
   "outputs": [],
   "source": []
  },
  {
   "cell_type": "code",
   "execution_count": null,
   "id": "0f774dbb-ea81-4643-8ed9-f56218713f93",
   "metadata": {},
   "outputs": [],
   "source": []
  },
  {
   "cell_type": "code",
   "execution_count": null,
   "id": "85884337-afae-4068-be21-9ace7d8b4186",
   "metadata": {},
   "outputs": [],
   "source": []
  }
 ],
 "metadata": {
  "kernelspec": {
   "display_name": "Python 3 (ipykernel)",
   "language": "python",
   "name": "python3"
  },
  "language_info": {
   "codemirror_mode": {
    "name": "ipython",
    "version": 3
   },
   "file_extension": ".py",
   "mimetype": "text/x-python",
   "name": "python",
   "nbconvert_exporter": "python",
   "pygments_lexer": "ipython3",
   "version": "3.13.5"
  }
 },
 "nbformat": 4,
 "nbformat_minor": 5
}
