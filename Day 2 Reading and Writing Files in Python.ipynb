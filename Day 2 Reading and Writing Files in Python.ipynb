{
 "cells": [
  {
   "cell_type": "code",
   "execution_count": null,
   "id": "e1070740-9d52-42af-b823-e88228e91c27",
   "metadata": {},
   "outputs": [],
   "source": [
    "#using the open function to open the files in python\n"
   ]
  },
  {
   "cell_type": "code",
   "execution_count": null,
   "id": "75b419f0-eed4-49e3-ab93-e7592ae44e9f",
   "metadata": {},
   "outputs": [],
   "source": [
    "file = open(\"/resources/data/Example1.txt\",\"r\")"
   ]
  },
  {
   "cell_type": "code",
   "execution_count": null,
   "id": "d6c4d275-0569-4440-9156-7d8d54413c6b",
   "metadata": {},
   "outputs": [],
   "source": [
    "#here format is open(\"path\",\"filename\",\"reading or writing mode\")\n",
    "#\"r\" - reading mode\n",
    "#\"w\" - writing mode\n",
    "#for example we have a file named example1"
   ]
  },
  {
   "cell_type": "code",
   "execution_count": null,
   "id": "8ad4f61a-7939-4295-8263-6177540a8c11",
   "metadata": {},
   "outputs": [],
   "source": [
    "example1 = \"example1.txt\"\n",
    "file1 = open(example1, \"r\")\n"
   ]
  },
  {
   "cell_type": "code",
   "execution_count": null,
   "id": "4881a5da-1c8e-4778-9be5-493c6a46f2c7",
   "metadata": {},
   "outputs": [],
   "source": [
    "#print the path of the file\n",
    "file1.name"
   ]
  },
  {
   "cell_type": "code",
   "execution_count": null,
   "id": "dc8be692-1726-4e04-96c3-1148b63f020b",
   "metadata": {},
   "outputs": [],
   "source": [
    "file1.close()\n",
    "#to close the file whenever we use it "
   ]
  },
  {
   "cell_type": "code",
   "execution_count": null,
   "id": "5741b5eb-079d-4a40-9ae8-cd2d5b0a9d2b",
   "metadata": {},
   "outputs": [],
   "source": [
    "#using the with statement we could automatically close the file even if the code encounters an exception"
   ]
  },
  {
   "cell_type": "code",
   "execution_count": null,
   "id": "fdae9ed0-2fe3-45bd-a7e8-71f4427987d9",
   "metadata": {},
   "outputs": [],
   "source": [
    "with open(example.txt,\"r\") as file1:\n",
    "    FileContent=file1.read()\n",
    "print(FileContent)"
   ]
  },
  {
   "cell_type": "code",
   "execution_count": null,
   "id": "343b2e23-67fd-4027-b6c0-45cee733ddb6",
   "metadata": {},
   "outputs": [],
   "source": [
    "#reading the four 4 characters"
   ]
  },
  {
   "cell_type": "code",
   "execution_count": null,
   "id": "05740133-34ed-45e1-a0ef-3537b2f70c41",
   "metadata": {},
   "outputs": [],
   "source": [
    "with open(example1,\"r\") as file1:\n",
    "    print(file1.read(4))"
   ]
  },
  {
   "cell_type": "code",
   "execution_count": null,
   "id": "3056c929-339e-4104-8983-1cb16e86b159",
   "metadata": {},
   "outputs": [],
   "source": [
    "#iterating through all of the lines and saving it as a list"
   ]
  },
  {
   "cell_type": "code",
   "execution_count": null,
   "id": "00a89c42-e8cb-4840-bd09-7bb5981422d1",
   "metadata": {},
   "outputs": [],
   "source": [
    "with open(example1,\"r\") as file1:\n",
    "    for line in file1:\n",
    "        print(\"Iteration\",str(i),line)\n",
    "        i = i + 1"
   ]
  },
  {
   "cell_type": "code",
   "execution_count": null,
   "id": "626d595e-db90-4248-9210-dec5409f033a",
   "metadata": {},
   "outputs": [],
   "source": [
    "#writing to a file using the write file"
   ]
  },
  {
   "cell_type": "code",
   "execution_count": null,
   "id": "59c71f96-f822-45ae-a6e6-5fa40ad2127b",
   "metadata": {},
   "outputs": [],
   "source": [
    "exmp2 = \"example2.text\"\n",
    "with open(exmp2,\"w\") as writefile:\n",
    "    writefile.write(\"this is what needs to be writen in that\")\n",
    "    "
   ]
  },
  {
   "cell_type": "code",
   "execution_count": null,
   "id": "e2df387d-b8b1-40fc-a0c0-8bcb4d8c3aa8",
   "metadata": {},
   "outputs": [],
   "source": [
    "with open(exmp2, 'w') as writefile:\n",
    "    writefile.write(\"This is line A\\n\")\n",
    "    writefile.write(\"This is line B\\n\")"
   ]
  },
  {
   "cell_type": "code",
   "execution_count": null,
   "id": "4f0e2b67-4ac5-48b5-a7bc-760819da6f12",
   "metadata": {},
   "outputs": [],
   "source": [
    "# Write a new line to text file\n",
    "\n",
    "with open('/Example2.txt', 'a') as testwritefile:\n",
    "    testwritefile.write(\"This is line C\\n\")\n",
    "    testwritefile.write(\"This is line D\\n\")\n",
    "    testwritefile.write(\"This is line E\\n\")"
   ]
  }
 ],
 "metadata": {
  "kernelspec": {
   "display_name": "Python 3 (ipykernel)",
   "language": "python",
   "name": "python3"
  },
  "language_info": {
   "codemirror_mode": {
    "name": "ipython",
    "version": 3
   },
   "file_extension": ".py",
   "mimetype": "text/x-python",
   "name": "python",
   "nbconvert_exporter": "python",
   "pygments_lexer": "ipython3",
   "version": "3.13.5"
  }
 },
 "nbformat": 4,
 "nbformat_minor": 5
}
