{
 "cells": [
  {
   "cell_type": "code",
   "execution_count": null,
   "id": "a8e7f5a9-9904-4c81-ae8d-b694478b3b35",
   "metadata": {},
   "outputs": [],
   "source": [
    "#tuples are the immutable ordered sequence which are writen in commaa seprated order writen in round brackets"
   ]
  },
  {
   "cell_type": "code",
   "execution_count": 2,
   "id": "6ead2347-a4c6-4cb3-82ba-a76964048f31",
   "metadata": {},
   "outputs": [
    {
     "data": {
      "text/plain": [
       "'hello'"
      ]
     },
     "execution_count": 2,
     "metadata": {},
     "output_type": "execute_result"
    }
   ],
   "source": [
    "tuple1 = (\"hello\",10,1.2)\n",
    "tuple1[0]"
   ]
  },
  {
   "cell_type": "code",
   "execution_count": 6,
   "id": "223dcf68-787d-4d8d-bd20-ecd063dfe849",
   "metadata": {},
   "outputs": [
    {
     "data": {
      "text/plain": [
       "'rock'"
      ]
     },
     "execution_count": 6,
     "metadata": {},
     "output_type": "execute_result"
    }
   ],
   "source": [
    "nt = (1,2,(\"pop\",\"rock\"),(3,4),(\"disco\",(1,2)))\n",
    "nt[2][1]\n"
   ]
  },
  {
   "cell_type": "code",
   "execution_count": null,
   "id": "b336e051-608c-4633-ac59-4aad2d906bb2",
   "metadata": {},
   "outputs": [],
   "source": [
    "#in the upper tuple we could like access each of elements using using square brackets by going in deep with every element in tuples"
   ]
  },
  {
   "cell_type": "code",
   "execution_count": null,
   "id": "fbea30b4-4324-40aa-9a39-33715e416bce",
   "metadata": {},
   "outputs": [],
   "source": [
    "#list are the mutable ordered sequence which are writen inside the square brackets "
   ]
  },
  {
   "cell_type": "code",
   "execution_count": null,
   "id": "b816edbf-a008-4219-a337-cd2c7c8f3078",
   "metadata": {},
   "outputs": [],
   "source": [
    "#concatenation of list"
   ]
  },
  {
   "cell_type": "code",
   "execution_count": 7,
   "id": "872bf240-fe3f-4294-b739-148a61868d43",
   "metadata": {},
   "outputs": [
    {
     "name": "stdout",
     "output_type": "stream",
     "text": [
      "['m', 1, 2.3, 'manu', 2.4]\n"
     ]
    }
   ],
   "source": [
    "list = [\"m\",1,2.3]\n",
    "l = list + [\"manu\",2.4]\n",
    "print(l)"
   ]
  },
  {
   "cell_type": "code",
   "execution_count": null,
   "id": "7145c827-9553-49b8-9365-918a8284902b",
   "metadata": {},
   "outputs": [],
   "source": [
    "# extend method to extend the tuple\n",
    "#Adds each element of an iterable (like a list, tuple, or string) to the list individually.\n",
    "#It flattens the iterable into the list."
   ]
  },
  {
   "cell_type": "code",
   "execution_count": 11,
   "id": "d68c4d73-14f4-40fe-b8a4-ebb54679bf1e",
   "metadata": {},
   "outputs": [
    {
     "name": "stdout",
     "output_type": "stream",
     "text": [
      "['m', 2.4, 5.6, 7.8, 'manu', 783]\n"
     ]
    }
   ],
   "source": [
    "list = [\"m\",2.4,5.6,7.8]\n",
    "list.extend([\"manu\",783])\n",
    "print(list)"
   ]
  },
  {
   "cell_type": "code",
   "execution_count": null,
   "id": "0e64d53f-04a8-4fae-b923-bb90a866f9d9",
   "metadata": {},
   "outputs": [],
   "source": [
    "# append(item)\n",
    "#Adds one item to the end of the list.\n",
    "\n",
    "#The entire item (even if it's a list) is added as a single element."
   ]
  },
  {
   "cell_type": "code",
   "execution_count": 14,
   "id": "b72f370c-5591-4a1b-b989-21c46de38618",
   "metadata": {},
   "outputs": [
    {
     "name": "stdout",
     "output_type": "stream",
     "text": [
      "['m', 2.7, 2.8, 2.9, ['manu', 783], 5]\n"
     ]
    }
   ],
   "source": [
    "list = [\"m\",2.7,2.8,2.9]\n",
    "list.append([\"manu\",783])\n",
    "list.append(5)\n",
    "print(list)"
   ]
  },
  {
   "cell_type": "code",
   "execution_count": 15,
   "id": "5a4e796a-018b-4742-bdb0-04e106473388",
   "metadata": {},
   "outputs": [
    {
     "name": "stdout",
     "output_type": "stream",
     "text": [
      "['hardrock', 10, 1.2]\n"
     ]
    }
   ],
   "source": [
    "a = [\"disco\",10,1.2]\n",
    "a[0] = \"hardrock\"\n",
    "print(a)"
   ]
  },
  {
   "cell_type": "code",
   "execution_count": null,
   "id": "c6e6914d-3aaf-4736-9399-53339728079e",
   "metadata": {},
   "outputs": [],
   "source": [
    "#converting the strings into list using split()"
   ]
  },
  {
   "cell_type": "code",
   "execution_count": 18,
   "id": "9e2314ae-de9e-493b-9ce6-68d937f98ca6",
   "metadata": {},
   "outputs": [
    {
     "data": {
      "text/plain": [
       "['mahesh']"
      ]
     },
     "execution_count": 18,
     "metadata": {},
     "output_type": "execute_result"
    }
   ],
   "source": [
    "\"mahesh\".split(\",\")"
   ]
  },
  {
   "cell_type": "code",
   "execution_count": null,
   "id": "93a0cf2a-8429-4e77-8c2a-413e702b8f23",
   "metadata": {},
   "outputs": [],
   "source": [
    "#cloning the list using the a[:]"
   ]
  },
  {
   "cell_type": "code",
   "execution_count": 20,
   "id": "db72f729-019e-4cb0-a91e-e3480b55f738",
   "metadata": {},
   "outputs": [
    {
     "name": "stdout",
     "output_type": "stream",
     "text": [
      "['manu', 62, 'girl']\n"
     ]
    }
   ],
   "source": [
    "a = [\"manu\",62,\"girl\"]\n",
    "b = a[:]\n",
    "print(b)"
   ]
  },
  {
   "cell_type": "code",
   "execution_count": null,
   "id": "33477bb7-5604-43a2-af11-a729be8171e8",
   "metadata": {},
   "outputs": [],
   "source": [
    "#del() command for deleting items in list"
   ]
  },
  {
   "cell_type": "code",
   "execution_count": 21,
   "id": "ab20b47b-feca-4c96-8ab3-9078dd983b47",
   "metadata": {},
   "outputs": [
    {
     "name": "stdout",
     "output_type": "stream",
     "text": [
      "[1.2, 1]\n"
     ]
    }
   ],
   "source": [
    "A = [\"disco\",1.2,1]\n",
    "del(A[0])\n",
    "print(A)"
   ]
  },
  {
   "cell_type": "code",
   "execution_count": null,
   "id": "df697bdb-480f-4d23-98ba-e1da5a8ab286",
   "metadata": {},
   "outputs": [],
   "source": []
  }
 ],
 "metadata": {
  "kernelspec": {
   "display_name": "Python 3 (ipykernel)",
   "language": "python",
   "name": "python3"
  },
  "language_info": {
   "codemirror_mode": {
    "name": "ipython",
    "version": 3
   },
   "file_extension": ".py",
   "mimetype": "text/x-python",
   "name": "python",
   "nbconvert_exporter": "python",
   "pygments_lexer": "ipython3",
   "version": "3.13.5"
  }
 },
 "nbformat": 4,
 "nbformat_minor": 5
}
